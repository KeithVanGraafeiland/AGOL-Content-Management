{
 "cells": [
  {
   "cell_type": "code",
   "execution_count": 1,
   "metadata": {},
   "outputs": [],
   "source": [
    "import paramiko\n",
    "\n",
    "# Define SFTP connection parameters\n",
    "hostname = 'ftp-access.aviso.altimetry.fr'\n",
    "port = 2221\n",
    "username = 'kvangraafeiland@esri.com'\n",
    "password = 'm9Y73T'\n",
    "\n",
    "# Create an SSH client\n",
    "ssh_client = paramiko.SSHClient()\n",
    "ssh_client.set_missing_host_key_policy(paramiko.AutoAddPolicy())\n",
    "\n",
    "# Connect to the SFTP server\n",
    "ssh_client.connect(hostname, port, username, password)\n",
    "\n",
    "# Create an SFTP session\n",
    "sftp = ssh_client.open_sftp()\n",
    "\n",
    "# Now you can perform SFTP operations"
   ]
  },
  {
   "cell_type": "code",
   "execution_count": null,
   "metadata": {},
   "outputs": [],
   "source": [
    "# list all the files from the sftp://ftp-access.aviso.altimetry.fr:2221/auxiliary/tide_model/ directory\n",
    "files = sftp.listdir('/auxiliary/tide_model/fes2022b/ocean_tide_extrapolated')\n",
    "print(files)"
   ]
  },
  {
   "cell_type": "code",
   "execution_count": null,
   "metadata": {},
   "outputs": [],
   "source": [
    "import os\n",
    "dest_folder = r'E:\\temp\\test'\n",
    "# Ensure the destination folder exists\n",
    "os.makedirs(dest_folder, exist_ok=True)\n",
    "ftp_path = '/auxiliary/tide_model/fes2022b/ocean_tide_extrapolated'\n",
    "# Download each file using wget\n",
    "for file in files:\n",
    "    remote_file_path = f'ftp://{hostname}:{port}{ftp_path}/{file}'\n",
    "    print(remote_file_path)\n",
    "    local_file_path = os.path.join(dest_folder, file)\n",
    "    print(local_file_path)\n",
    "    # os.system(f'wget --user={username} --password={password} -O {local_file_path} {remote_file_path}')\n",
    "    print(f'wget --user={username} --password={password} -O {local_file_path} {remote_file_path}')"
   ]
  }
 ],
 "metadata": {
  "kernelspec": {
   "display_name": "Python 3",
   "language": "python",
   "name": "python3"
  },
  "language_info": {
   "codemirror_mode": {
    "name": "ipython",
    "version": 3
   },
   "file_extension": ".py",
   "mimetype": "text/x-python",
   "name": "python",
   "nbconvert_exporter": "python",
   "pygments_lexer": "ipython3",
   "version": "3.11.8"
  }
 },
 "nbformat": 4,
 "nbformat_minor": 2
}
