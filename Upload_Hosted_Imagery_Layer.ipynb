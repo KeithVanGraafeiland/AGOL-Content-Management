{
 "cells": [
  {
   "attachments": {},
   "cell_type": "markdown",
   "id": "55293360",
   "metadata": {},
   "source": [
    "# Utilize API to create Hosted Imagery Layer by uploading local images"
   ]
  },
  {
   "attachments": {},
   "cell_type": "markdown",
   "id": "771def3c",
   "metadata": {},
   "source": [
    "### Create a connection to an ArcGIS Online organization with ArcGIS Image"
   ]
  },
  {
   "cell_type": "code",
   "execution_count": 1,
   "id": "40012762",
   "metadata": {},
   "outputs": [],
   "source": [
    "import arcgis\n",
    "from arcgis.raster import *\n",
    "from arcgis.raster.analytics import *\n",
    "from arcgis.gis import GIS\n",
    "from AGOL_Credentials import AGOLusername, AGOLpassword\n",
    "\n",
    "arcgis.env.verbose=True"
   ]
  },
  {
   "cell_type": "code",
   "execution_count": 2,
   "id": "89c3ad98",
   "metadata": {},
   "outputs": [],
   "source": [
    "# Prompt user to provide username and password\n",
    "import getpass\n",
    "username = AGOLusername\n",
    "password = AGOLpassword"
   ]
  },
  {
   "cell_type": "code",
   "execution_count": 3,
   "id": "59a9a286",
   "metadata": {},
   "outputs": [
    {
     "name": "stdout",
     "output_type": "stream",
     "text": [
      "esri_oceans\n"
     ]
    }
   ],
   "source": [
    "print(username)"
   ]
  },
  {
   "cell_type": "code",
   "execution_count": 4,
   "id": "03f4df91",
   "metadata": {},
   "outputs": [
    {
     "name": "stderr",
     "output_type": "stream",
     "text": [
      "Setting `verify_cert` to False is a security risk, use at your own risk.\n"
     ]
    },
    {
     "data": {
      "text/html": [
       "GIS @ <a href=\"https://esri.maps.arcgis.com\">https://esri.maps.arcgis.com</a>"
      ],
      "text/plain": [
       "GIS @ https://esri.maps.arcgis.com version:2023.3"
      ]
     },
     "execution_count": 4,
     "metadata": {},
     "output_type": "execute_result"
    }
   ],
   "source": [
    "# Connect to ArcGIS Online\n",
    "gis = GIS(\"https://esri.maps.arcgis.com/\", username, password, verify_cert=False)\n",
    "gis"
   ]
  },
  {
   "cell_type": "code",
   "execution_count": 6,
   "id": "85b9d302",
   "metadata": {},
   "outputs": [
    {
     "name": "stdout",
     "output_type": "stream",
     "text": [
      "R0000C0000.bundle uploaded |------------------------------| 2.3% complete (85/3631 files)\t[time elapsed> 0:01:11.237804] \r"
     ]
    }
   ],
   "source": [
    "#Creating a tile imagery layer from CRF\n",
    "NAME = 'Photosynthetically_Active_Radiation_PAR'\n",
    "ImgFolder = r\"C:\\Users\\keit8223\\Documents\\ArcGIS\\Projects\\OceanVisions\\Aqua_MODIS_PAR_Monthly_2002_2023.crf\"\n",
    "copy_raster(input_raster=ImgFolder,output_name=NAME,raster_type_name=\"Raster Dataset\",tiles_only=True,context={\"buildFootprints\": True, \"footprintsArguments\": {\"method\":\"RADIOMETRY\"}},gis=gis)"
   ]
  },
  {
   "cell_type": "code",
   "execution_count": null,
   "id": "fd38f388",
   "metadata": {},
   "outputs": [],
   "source": [
    "#Get the item details for the tiled imagery layer based on the one mosaicked layer configuration\n",
    "Name1 + '_item' = gis.content.search(query= NAME + \"AND owner:' + username, \n",
    "                                  item_type='Imagery Layer')[0]\n",
    "Name1 + '_item' = item\n",
    "item"
   ]
  },
  {
   "cell_type": "code",
   "execution_count": null,
   "id": "61db0ea2",
   "metadata": {},
   "outputs": [],
   "source": []
  }
 ],
 "metadata": {
  "kernelspec": {
   "display_name": "Python 3",
   "language": "python",
   "name": "python3"
  },
  "language_info": {
   "codemirror_mode": {
    "name": "ipython",
    "version": 3
   },
   "file_extension": ".py",
   "mimetype": "text/x-python",
   "name": "python",
   "nbconvert_exporter": "python",
   "pygments_lexer": "ipython3",
   "version": "3.9.18"
  }
 },
 "nbformat": 4,
 "nbformat_minor": 5
}
