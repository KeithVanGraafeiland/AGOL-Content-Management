{
 "cells": [
  {
   "cell_type": "code",
   "execution_count": 2,
   "metadata": {},
   "outputs": [
    {
     "name": "stdout",
     "output_type": "stream",
     "text": [
      "Thumbnail image name: Study-Area-01-2.jpg\n",
      "Thumbnail image downloaded to: G:\\OneDrive - Esri\\Media\\Graphics\\AdobeStock_Sort\\random\\Study-Area-01-2.jpg.jpg\n",
      "Image resized to: G:\\OneDrive - Esri\\Media\\Graphics\\AdobeStock_Sort\\random\\resized_Study-Area-01-2.jpg.jpg\n"
     ]
    },
    {
     "name": "stderr",
     "output_type": "stream",
     "text": [
      "c:\\Program Files\\ArcGIS\\Pro\\bin\\Python\\envs\\arcgispro-py3\\Lib\\site-packages\\IPython\\core\\interactiveshell.py:3550: DeprecatedWarning: add is deprecated as of 2.3.0 and has been removed in 3.0.0. Use `Folder.add()` instead.\n",
      "  exec(code_obj, self.user_global_ns, self.user_ns)\n"
     ]
    },
    {
     "name": "stdout",
     "output_type": "stream",
     "text": [
      "Item created with ID: f44ea28f7f484de6987edbba9d8f6f3a\n",
      "Thumbnail updated with image: G:\\OneDrive - Esri\\Media\\Graphics\\AdobeStock_Sort\\random\\Study-Area-01-2.jpg.jpg\n"
     ]
    },
    {
     "name": "stderr",
     "output_type": "stream",
     "text": [
      "c:\\Program Files\\ArcGIS\\Pro\\bin\\Python\\envs\\arcgispro-py3\\Lib\\site-packages\\IPython\\core\\interactiveshell.py:3550: DeprecatedWarning: share is deprecated as of 2.3.0 and has been removed in 3.0.0. Use `Item.sharing` instead.\n",
      "  exec(code_obj, self.user_global_ns, self.user_ns)\n"
     ]
    },
    {
     "name": "stdout",
     "output_type": "stream",
     "text": [
      "Item shared with group: GIS for Ocean Blogs\n",
      "Item shared with the public.\n"
     ]
    },
    {
     "name": "stderr",
     "output_type": "stream",
     "text": [
      "c:\\Program Files\\ArcGIS\\Pro\\bin\\Python\\envs\\arcgispro-py3\\Lib\\site-packages\\IPython\\core\\interactiveshell.py:3550: DeprecatedWarning: share is deprecated as of 2.3.0 and has been removed in 3.0.0. Use `Item.sharing` instead.\n",
      "  exec(code_obj, self.user_global_ns, self.user_ns)\n"
     ]
    }
   ],
   "source": [
    "## Add document link to as BLOG to GIS Ocean Hub\n",
    "from AGOL_Credentials import kv_oceans_username, kv_oceans_password\n",
    "from arcgis.gis import GIS\n",
    "import os\n",
    "import random\n",
    "from PIL import Image\n",
    "import requests\n",
    "\n",
    "\n",
    "### User Input ###\n",
    "\n",
    "# Thumbnail image URL\n",
    "thumbnail_image = \"https://www.esri.com/arcgis-blog/wp-content/uploads/2024/11/Study-Area-01-2.jpg\"\n",
    "# Title of the item\n",
    "item_title = \"Monitoring algae bloom concentration in turbid water bodies with raster functions in Map Viewer\"\n",
    "# Snippet of the item\n",
    "item_snippet = \"Monitoring algae bloom concentration in turbid waterbodies using satellite imagery is crucial for monitoring environmental health, as algae blooms can degrade water quality and harm aquatic life.\"\n",
    "# URL to the blog\n",
    "blog_url = \"https://www.esri.com/arcgis-blog/products/arcgis-enterprise/mapping/podcast-28-clint-brown-esri-maps-are-art-and-science-at-the-same-time/\"\n",
    "\n",
    "### End User Input ###\n",
    "\n",
    "# Log into ArcGIS Online\n",
    "gis = GIS(\"https://www.arcgis.com\", kv_oceans_username, kv_oceans_password)\n",
    "\n",
    "\n",
    "# Directory containing the images\n",
    "image_directory = r\"G:\\OneDrive - Esri\\Media\\Graphics\\AdobeStock_Sort\\random\"\n",
    "\n",
    "# Get a list of all files in the directory\n",
    "image_files = [f for f in os.listdir(image_directory) if os.path.isfile(os.path.join(image_directory, f))]\n",
    "\n",
    "# Extract the image name from the thumbnail_image path\n",
    "thumbnail_image_name = os.path.basename(thumbnail_image)\n",
    "print(f\"Thumbnail image name: {thumbnail_image_name}\")\n",
    "\n",
    "# Check if a thumbnail image is provided, if not, use the random option\n",
    "# Download the thumbnail image locally to the image directory\n",
    "if thumbnail_image:\n",
    "    response = requests.get(thumbnail_image)\n",
    "    if response.status_code == 200:\n",
    "        thumbnail_image_path = os.path.join(image_directory, thumbnail_image_name + \".jpg\")\n",
    "        with open(thumbnail_image_path, 'wb') as file:\n",
    "            file.write(response.content)\n",
    "        print(f\"Thumbnail image downloaded to: {thumbnail_image_path}\")\n",
    "        thumbnail_image = thumbnail_image_path\n",
    "        with Image.open(thumbnail_image_path) as img:\n",
    "            img.thumbnail((900, 600), Image.LANCZOS)\n",
    "            # thumbnail_filename = os.path.basename(thumbnail_image)\n",
    "            resized_image_path = os.path.join(image_directory, \"resized_\" + thumbnail_image_name + \".jpg\")\n",
    "            img = img.convert(\"RGB\")\n",
    "            img.save(resized_image_path, \"JPEG\", quality=85)\n",
    "            print(f\"Image resized to: {resized_image_path}\")\n",
    "    else:\n",
    "        print(\"Failed to download the thumbnail image.\")\n",
    "\n",
    "item_properties = {\n",
    "    \"title\": item_title,\n",
    "    \"type\": \"Document Link\",\n",
    "    \"typeKeywords\": \"Data, Service, Tool\",\n",
    "    \"url\": blog_url,\n",
    "    \"tags\": \"ArcGIS Blog, Blog, GIS for Ocean\",\n",
    "    \"snippet\": item_snippet,\n",
    "    \"description\": item_snippet,\n",
    "    # \"thumbnail\": resized_image_path\n",
    "}\n",
    "\n",
    "# Add the item to ArcGIS Online\n",
    "item = gis.content.add(item_properties)\n",
    "\n",
    "# Update the item's thumbnail with the resized image\n",
    "item.update(thumbnail=resized_image_path)\n",
    "\n",
    "print(f\"Item created with ID: {item.id}\")\n",
    "print(f\"Thumbnail updated with image: {thumbnail_image}\")\n",
    "\n",
    "# Search for the GIS for Oceans Blogs Group\n",
    "group_search = gis.groups.search(\"GIS for Oceans Blogs\")\n",
    "if group_search:\n",
    "    group = group_search[0]\n",
    "    # Share the item with the group\n",
    "    item.share(groups=[group.id])\n",
    "    print(f\"Item shared with group: {group.title}\")\n",
    "else:\n",
    "    print(\"Group 'GIS for Oceans Blogs' not found.\")\n",
    "    # Share the item with the public\n",
    "item.share(everyone=True)\n",
    "print(\"Item shared with the public.\")"
   ]
  }
 ],
 "metadata": {
  "kernelspec": {
   "display_name": "Python 3",
   "language": "python",
   "name": "python3"
  },
  "language_info": {
   "codemirror_mode": {
    "name": "ipython",
    "version": 3
   },
   "file_extension": ".py",
   "mimetype": "text/x-python",
   "name": "python",
   "nbconvert_exporter": "python",
   "pygments_lexer": "ipython3",
   "version": "3.11.10"
  }
 },
 "nbformat": 4,
 "nbformat_minor": 2
}
