{
 "cells": [
  {
   "cell_type": "code",
   "execution_count": 25,
   "metadata": {},
   "outputs": [],
   "source": [
    "from arcgis.gis import GIS\n",
    "import pandas as pd\n",
    "import os"
   ]
  },
  {
   "cell_type": "code",
   "execution_count": 26,
   "metadata": {},
   "outputs": [
    {
     "name": "stdout",
     "output_type": "stream",
     "text": [
      "GIS @ https://noaa.maps.arcgis.com/home version:2023.1\n"
     ]
    }
   ],
   "source": [
    "# Connect to a public-facing ArcGIS Online without log-in\n",
    "gis = GIS('https://noaa.maps.arcgis.com/home')\n",
    "print(gis)"
   ]
  },
  {
   "cell_type": "code",
   "execution_count": 27,
   "metadata": {},
   "outputs": [],
   "source": [
    "GIS_USER = 'MPA_noaa' ## To-Do Fill in appropriate User for Report\n",
    "ROOT = r'C:\\temp\\GitHub List Services'\n",
    "excel_report = ROOT + '//' + 'NOAA_user_report_for_' + GIS_USER + '.xlsx'"
   ]
  },
  {
   "cell_type": "code",
   "execution_count": 28,
   "metadata": {},
   "outputs": [],
   "source": [
    "## Create the directory structure if non-existent \n",
    "if not os.path.exists(ROOT):\n",
    "    os.makedirs(ROOT)"
   ]
  },
  {
   "cell_type": "code",
   "execution_count": 29,
   "metadata": {},
   "outputs": [
    {
     "data": {
      "text/plain": [
       "[<Item title:\"Florida Keys National Marine Sanctuary Zones\" type:Feature Layer Collection owner:MPA_noaa>,\n",
       " <Item title:\"US_Marine_Waters_Boundaries\" type:Feature Layer Collection owner:MPA_noaa>,\n",
       " <Item title:\"Make the Most of the Coast\" type:Web Mapping Application owner:MPA_noaa>,\n",
       " <Item title:\"International Partnerships for Marine Protected Areas\" type:Web Mapping Application owner:MPA_noaa>,\n",
       " <Item title:\"NOAA's National Marine Sanctuary Sister Sites (Feature Service)\" type:Feature Layer Collection owner:MPA_noaa>,\n",
       " <Item title:\"NOAA's National Marine Sanctuary Sister Sites (Web Map)\" type:Web Map owner:MPA_noaa>,\n",
       " <Item title:\"Status of U.S. Marine Protected Areas\" type:Web Mapping Application owner:MPA_noaa>,\n",
       " <Item title:\"NOAA's Marine Protected Area Inventory \" type:Feature Layer Collection owner:MPA_noaa>,\n",
       " <Item title:\"NOAA's MPA Inventory 2022\" type:Feature Layer Collection owner:MPA_noaa>,\n",
       " <Item title:\"Palau NMS\" type:Feature Layer Collection owner:MPA_noaa>,\n",
       " <Item title:\"NOAA Marine Protected Areas Inventory 2023\" type:Feature Layer Collection owner:MPA_noaa>,\n",
       " <Item title:\"NOAA MPA Inventory 2023 Interactive Map\" type:Web Mapping Application owner:MPA_noaa>,\n",
       " <Item title:\"NOAA MPA Inventory 2023 Basemap\" type:Web Map owner:MPA_noaa>,\n",
       " <Item title:\"NOAA's International Program - Where We Work (Feature Service)\" type:Feature Layer Collection owner:MPA_noaa>,\n",
       " <Item title:\"NOAA's International Program - Where We Work (Web Scene)\" type:Web Scene owner:MPA_noaa>,\n",
       " <Item title:\"NOAA's International Program - Where We Work (Web App)\" type:Web Mapping Application owner:MPA_noaa>,\n",
       " <Item title:\"NOAA's International Program - Where We Work\" type:Web Map owner:MPA_noaa>,\n",
       " <Item title:\"NOAA MPA Inventory\" type:Feature Layer Collection owner:MPA_noaa>]"
      ]
     },
     "execution_count": 29,
     "metadata": {},
     "output_type": "execute_result"
    }
   ],
   "source": [
    "## List the top 1000 items (in order of number of views) for the user\n",
    "ALL_CONTENT = gis.content.search(query=\"owner:\" + GIS_USER, sort_field=\"numViews\", sort_order=\"desc\", max_items=1000)\n",
    "ALL_CONTENT"
   ]
  },
  {
   "cell_type": "code",
   "execution_count": 30,
   "metadata": {},
   "outputs": [],
   "source": [
    "## Write the list of conet to a dataframe\n",
    "df_content = pd.DataFrame(ALL_CONTENT)"
   ]
  },
  {
   "cell_type": "code",
   "execution_count": 31,
   "metadata": {},
   "outputs": [],
   "source": [
    "## Create a list of all the tags used in the content\n",
    "tagList_list =[]\n",
    "\n",
    "for tag in ALL_CONTENT:\n",
    "    tagList_list.append(tag.tags)\n",
    "\n",
    "all_tags = []\n",
    "for tgs in tagList_list:\n",
    "    for t in tgs:\n",
    "        all_tags.append(t)\n",
    "\n",
    "all_tags.sort()\n",
    "unique_tags = set(all_tags)\n",
    "sorted(unique_tags)\n",
    "df_tags = pd.DataFrame(unique_tags)"
   ]
  },
  {
   "cell_type": "code",
   "execution_count": 32,
   "metadata": {},
   "outputs": [],
   "source": [
    "with pd.ExcelWriter(excel_report) as writer:\n",
    "    #df_user.to_excel(writer, sheet_name='User Info')\n",
    "    #df_group.to_excel(writer, sheet_name='Groups')\n",
    "    #df_folder.to_excel(writer, sheet_name='Folders')\n",
    "    df_content.to_excel(writer, sheet_name='Top 1000 Items')\n",
    "    df_tags.to_excel(writer, sheet_name='Tags')"
   ]
  },
  {
   "cell_type": "code",
   "execution_count": 33,
   "metadata": {},
   "outputs": [
    {
     "data": {
      "text/plain": [
       "[<Item title:\"NOAA's International Program - Where We Work (Feature Service)\" type:Feature Layer Collection owner:MPA_noaa>,\n",
       " <Item title:\"Palau NMS\" type:Feature Layer Collection owner:MPA_noaa>,\n",
       " <Item title:\"NOAA Marine Protected Areas Inventory 2023\" type:Feature Layer Collection owner:MPA_noaa>,\n",
       " <Item title:\"US_Marine_Waters_Boundaries\" type:Feature Layer Collection owner:MPA_noaa>,\n",
       " <Item title:\"NOAA's Marine Protected Area Inventory \" type:Feature Layer Collection owner:MPA_noaa>,\n",
       " <Item title:\"NOAA's National Marine Sanctuary Sister Sites (Feature Service)\" type:Feature Layer Collection owner:MPA_noaa>,\n",
       " <Item title:\"Florida Keys National Marine Sanctuary Zones\" type:Feature Layer Collection owner:MPA_noaa>,\n",
       " <Item title:\"NOAA's MPA Inventory 2022\" type:Feature Layer Collection owner:MPA_noaa>,\n",
       " <Item title:\"NOAA MPA Inventory\" type:Feature Layer Collection owner:MPA_noaa>]"
      ]
     },
     "execution_count": 33,
     "metadata": {},
     "output_type": "execute_result"
    }
   ],
   "source": [
    "FL_CONTENT = gis.content.search(query=\"owner:\" + GIS_USER, item_type=\"Feature Layer\", max_items=1000)\n",
    "FL_CONTENT"
   ]
  }
 ],
 "metadata": {
  "kernelspec": {
   "display_name": "Python 3",
   "language": "python",
   "name": "python3"
  },
  "language_info": {
   "codemirror_mode": {
    "name": "ipython",
    "version": 3
   },
   "file_extension": ".py",
   "mimetype": "text/x-python",
   "name": "python",
   "nbconvert_exporter": "python",
   "pygments_lexer": "ipython3",
   "version": "3.9.16"
  },
  "orig_nbformat": 4
 },
 "nbformat": 4,
 "nbformat_minor": 2
}
