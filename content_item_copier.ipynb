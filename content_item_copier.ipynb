{
 "cells": [
  {
   "cell_type": "code",
   "execution_count": null,
   "metadata": {},
   "outputs": [],
   "source": [
    "import os\n",
    "\n",
    "import arcpy\n",
    "from AGOL_Credentials import esri_env_devext_username, esri_env_devext_password, esri_env_devext_org\n",
    "username = esri_env_devext_username\n",
    "password = esri_env_devext_password\n",
    "\n",
    "from arcgis.gis import GIS\n",
    "import json"
   ]
  },
  {
   "cell_type": "code",
   "execution_count": null,
   "metadata": {},
   "outputs": [],
   "source": [
    "# Connect to the GIS\n",
    "gis = GIS(\"https://esri.mapsdevext.arcgis.com\", username, password)\n",
    "# gis = GIS(\"https://esri.maps.arcgis.com\", username, password)"
   ]
  },
  {
   "cell_type": "code",
   "execution_count": null,
   "metadata": {},
   "outputs": [],
   "source": [
    "print(\"Connected to the GIS\")\n",
    "print(\"Username: \" + gis.properties.user.username)\n",
    "print(\"Full Name: \" + gis.properties.user.fullName)\n",
    "print(\"Email: \" + gis.properties.user.email)"
   ]
  },
  {
   "cell_type": "code",
   "execution_count": null,
   "metadata": {},
   "outputs": [],
   "source": [
    "source_item = '535ccdda81f341b884ea343b271b847d'\n",
    "target_item = 'f3872dc9e7024e759117508e13ea3b38'"
   ]
  },
  {
   "cell_type": "code",
   "execution_count": null,
   "metadata": {},
   "outputs": [],
   "source": [
    "# Get the source and target items\n",
    "source = gis.content.get(source_item)\n",
    "target = gis.content.get(target_item)"
   ]
  },
  {
   "cell_type": "code",
   "execution_count": null,
   "metadata": {},
   "outputs": [],
   "source": [
    "print(f\"Title: {source.title}, Type: {source.type}, ID: {source.id}, CREDITS: {source.accessInformation}, TERMS: {source.licenseInfo}, SNIPPET: {source.snippet}, TAGS: {source.tags}, DESCRIPTION: {source.description}\")"
   ]
  },
  {
   "cell_type": "code",
   "execution_count": null,
   "metadata": {},
   "outputs": [],
   "source": [
    "print(f\"Title: {target.title}, Type: {target.type}, ID: {target.id}\")\n"
   ]
  },
  {
   "cell_type": "code",
   "execution_count": null,
   "metadata": {},
   "outputs": [],
   "source": [
    "# Update the target item with the source item's properties\n",
    "target.update({\n",
    "    'title': source.title,\n",
    "    'description': source.description,\n",
    "    'snippet': source.snippet,\n",
    "    'tags': source.tags,\n",
    "    'accessInformation': source.accessInformation,\n",
    "    'licenseInfo': source.licenseInfo,\n",
    "    'thumbnail': source.thumbnail,\n",
    "    'extent': source.extent\n",
    "})"
   ]
  }
 ],
 "metadata": {
  "kernelspec": {
   "display_name": "arcgispro-py3",
   "language": "python",
   "name": "python3"
  },
  "language_info": {
   "codemirror_mode": {
    "name": "ipython",
    "version": 3
   },
   "file_extension": ".py",
   "mimetype": "text/x-python",
   "name": "python",
   "nbconvert_exporter": "python",
   "pygments_lexer": "ipython3",
   "version": "3.11.10"
  }
 },
 "nbformat": 4,
 "nbformat_minor": 2
}
