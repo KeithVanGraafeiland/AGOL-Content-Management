{
 "cells": [
  {
   "cell_type": "code",
   "execution_count": 1,
   "metadata": {},
   "outputs": [],
   "source": [
    "import os\n",
    "\n",
    "import arcpy\n",
    "from AGOL_Credentials import esri_env_devext_username, esri_env_devext_password, esri_env_devext_org\n",
    "username = esri_env_devext_username\n",
    "password = esri_env_devext_password\n",
    "\n",
    "from arcgis.gis import GIS\n",
    "import json"
   ]
  },
  {
   "cell_type": "code",
   "execution_count": 2,
   "metadata": {},
   "outputs": [],
   "source": [
    "# Connect to the GIS\n",
    "gis = GIS(\"https://esri.mapsdevext.arcgis.com\", username, password)\n",
    "# gis = GIS(\"https://esri.maps.arcgis.com\", username, password)"
   ]
  },
  {
   "cell_type": "code",
   "execution_count": 3,
   "metadata": {},
   "outputs": [
    {
     "name": "stdout",
     "output_type": "stream",
     "text": [
      "Connected to the GIS\n",
      "Username: esri_environment\n",
      "Full Name: Environment Esri\n",
      "Email: cscopel@esri.com\n"
     ]
    }
   ],
   "source": [
    "print(\"Connected to the GIS\")\n",
    "print(\"Username: \" + gis.properties.user.username)\n",
    "print(\"Full Name: \" + gis.properties.user.fullName)\n",
    "print(\"Email: \" + gis.properties.user.email)"
   ]
  },
  {
   "cell_type": "code",
   "execution_count": 4,
   "metadata": {},
   "outputs": [],
   "source": [
    "source_item = '535ccdda81f341b884ea343b271b847d'\n",
    "target_item = 'f3872dc9e7024e759117508e13ea3b38'"
   ]
  },
  {
   "cell_type": "code",
   "execution_count": 5,
   "metadata": {},
   "outputs": [],
   "source": [
    "# Get the source and target items\n",
    "source = gis.content.get(source_item)\n",
    "target = gis.content.get(target_item)"
   ]
  },
  {
   "cell_type": "code",
   "execution_count": 6,
   "metadata": {},
   "outputs": [
    {
     "name": "stdout",
     "output_type": "stream",
     "text": [
      "Title: US Vessel Traffic 2024 September, Type: Feature Service, ID: 535ccdda81f341b884ea343b271b847d, CREDITS: USCG, NOAA, BOEM, Marine Cadastre, Esri, TERMS: <img src='https://downloads.esri.com/blogs/arcgisonline/esrilogo_new.png' />This work is licensed under the Esri Master License Agreement. <br /><div><a href='https://goto.arcgis.com/termsofuse/viewsummary' target='_blank' rel='nofollow ugc noopener noreferrer'><b>View Summary</b></a> | <a href='https://goto.arcgis.com/termsofuse/viewtermsofuse' target='_blank' rel='nofollow ugc noopener noreferrer'><b>View Terms of Use</b></a> </div><div><span><br /></span></div><div><font color='#b22222'>Important Note:</font> This item requires an ArcGIS Online organizational subscription or an ArcGIS Developer account and does not consume credits. To access this item, you'll need to do one of the following: </div><div><ul><li>Sign in with an account that is a member of an organizational subscription </li><li>Sign in with a developer account </li><li><a href='https://goto.arcgis.com/termsofuse/registeranapplication' target='_blank' rel='nofollow ugc noopener noreferrer'>Register an application</a> and use your application's credentials.</li></ul>If you don't have an account, you can sign up for a <a href='https://goto.arcgis.com/features/trial' target='_blank' rel='nofollow ugc noopener noreferrer'>free trial of ArcGIS</a> or a <a href='https://goto.arcgis.com/developers/signup' target='_blank' rel='nofollow ugc noopener noreferrer'>free ArcGIS Developer account</a>.</div>, SNIPPET: US Vessel Traffic from September 2024, TAGS: ['esri_environment', 'environment', 'AIS', 'oceans', 'oceans6', 'Shipping', 'Vessel Traffic'], DESCRIPTION: Vessel traffic data are an invaluable resource made available to our community by the US Coast Guard, NOAA and BOEM through Marine Cadastre. This information can help marine spatial planners better understand users of ocean space and identify potential space-use conflicts.\n"
     ]
    }
   ],
   "source": [
    "print(f\"Title: {source.title}, Type: {source.type}, ID: {source.id}, CREDITS: {source.accessInformation}, TERMS: {source.licenseInfo}, SNIPPET: {source.snippet}, TAGS: {source.tags}, DESCRIPTION: {source.description}\")"
   ]
  },
  {
   "cell_type": "code",
   "execution_count": 7,
   "metadata": {},
   "outputs": [
    {
     "name": "stdout",
     "output_type": "stream",
     "text": [
      "Title: US Vessel Traffic 2024 October, Type: Feature Service, ID: f3872dc9e7024e759117508e13ea3b38\n"
     ]
    }
   ],
   "source": [
    "print(f\"Title: {target.title}, Type: {target.type}, ID: {target.id}\")\n"
   ]
  },
  {
   "cell_type": "code",
   "execution_count": null,
   "metadata": {},
   "outputs": [
    {
     "data": {
      "text/plain": [
       "True"
      ]
     },
     "execution_count": 9,
     "metadata": {},
     "output_type": "execute_result"
    }
   ],
   "source": [
    "# Update the target item with the source item's properties\n",
    "target.update({\n",
    "    'title': source.title,\n",
    "    'description': source.description,\n",
    "    'snippet': source.snippet,\n",
    "    'tags': source.tags,\n",
    "    'accessInformation': source.accessInformation,\n",
    "    'licenseInfo': source.licenseInfo,\n",
    "    'thumbnail': source.thumbnail,\n",
    "    'extent': source.extent\n",
    "})"
   ]
  }
 ],
 "metadata": {
  "kernelspec": {
   "display_name": "arcgispro-py3",
   "language": "python",
   "name": "python3"
  },
  "language_info": {
   "codemirror_mode": {
    "name": "ipython",
    "version": 3
   },
   "file_extension": ".py",
   "mimetype": "text/x-python",
   "name": "python",
   "nbconvert_exporter": "python",
   "pygments_lexer": "ipython3",
   "version": "3.11.10"
  }
 },
 "nbformat": 4,
 "nbformat_minor": 2
}
