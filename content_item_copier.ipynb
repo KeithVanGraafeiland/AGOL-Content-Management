{
 "cells": [
  {
   "cell_type": "code",
   "execution_count": 46,
   "metadata": {},
   "outputs": [],
   "source": [
    "import os\n",
    "\n",
    "import arcpy\n",
    "from AGOL_Credentials import esri_oceans_username, esri_oceans_password, esri_oceans_org\n",
    "username = esri_oceans_username\n",
    "password = esri_oceans_password\n",
    "org = esri_oceans_org\n",
    "\n",
    "from arcgis.gis import GIS\n",
    "import json"
   ]
  },
  {
   "cell_type": "code",
   "execution_count": 47,
   "metadata": {},
   "outputs": [],
   "source": [
    "# Connect to the GIS\n",
    "# gis = GIS(\"https://esri.mapsdevext.arcgis.com\", username, password)\n",
    "gis = GIS(org, username, password)"
   ]
  },
  {
   "cell_type": "code",
   "execution_count": 48,
   "metadata": {},
   "outputs": [
    {
     "name": "stdout",
     "output_type": "stream",
     "text": [
      "Connected to the GIS\n",
      "Username: esri_oceans\n",
      "Full Name: Esri Oceans\n",
      "Email: environment@esri.com\n"
     ]
    }
   ],
   "source": [
    "print(\"Connected to the GIS\")\n",
    "print(\"Username: \" + gis.properties.user.username)\n",
    "print(\"Full Name: \" + gis.properties.user.fullName)\n",
    "print(\"Email: \" + gis.properties.user.email)"
   ]
  },
  {
   "cell_type": "code",
   "execution_count": 49,
   "metadata": {},
   "outputs": [],
   "source": [
    "source_item = '872bd8dfe0c64728a806294a51b45cb2'\n",
    "target_item = '2c74d39a354e4987a6841df4bce73f41'"
   ]
  },
  {
   "cell_type": "code",
   "execution_count": 50,
   "metadata": {},
   "outputs": [],
   "source": [
    "# Get the source and target items\n",
    "source = gis.content.get(source_item)\n",
    "target = gis.content.get(target_item)"
   ]
  },
  {
   "cell_type": "code",
   "execution_count": 51,
   "metadata": {},
   "outputs": [
    {
     "name": "stdout",
     "output_type": "stream",
     "text": [
      "Title: Global Fishing Intensity (Year 2020), Type: Image Service, ID: 872bd8dfe0c64728a806294a51b45cb2, CREDITS: Global Fishing Watch, TERMS: <div><img src='https://licensebuttons.net/l/by/3.0/88x31.png' /> This work is licensed under a Creative Commons by Attribution 4.0 International (CC BY 4.0) license.  See Credits and Map for Attribution.</div><div><a href='https://creativecommons.org/licenses/by/4.0/legalcode' target='_blank' rel='nofollow ugc noopener noreferrer'><b>View License Deed</b></a> | <a href='https://creativecommons.org/licenses/by/4.0/legalcode' target='_blank' rel='nofollow ugc noopener noreferrer'><b>View Legal Code</b></a></div>, SNIPPET: The amount of fishing activity per square kilometer for the year 2020.  Summarized from Global Fishing Watch Daily Fleet Activity.  , TAGS: ['AIS', 'vessel traffic', 'fishing', 'conservation', 'ocean', 'marine', 'marine spatial planning', 'resource protection'], DESCRIPTION: <div>This layer shows the amount of fishing activity recorded by Automatic Identification System (AIS) for the year 2020.</div><div><div><br /></div><div>This layer has two variables:</div><div><ol><li><b>Hours</b> - Identification of fishing vessels in the AIS data.<br /></li><li><b>Fishing Hours</b> (displayed by default) - Detection of fishing activity.<br /></li></ol></div>Using cloud computing, machine learning and public vessel registry information, Global Fishing Watch (GFW) analyze tens of millions of AIS positions each day to map global apparent fishing effort. Producing such a map involves two key steps: Identification of fishing vessels in the AIS data (Hours) and Detection of fishing activity (Fishing Hours).\n",
      "\n",
      "This annual summary is produced from the daily GFW AIS-based apparent fishing effort data. The daily fishing activity made available by GFW was rasterized at 100th degree resolution then aggregated to produce an annual summary for the given year.   The maps show areas where likely fishing activity occurred in the year 2020 and the estimated level of fishing intensity.  This information can help understand areas where fishing activity might be considered in a marine spatial planning application.<div><br /></div><div>More information: <a href='https://globalfishingwatch.org/dataset-and-code-fishing-effort/' target='_blank' rel='nofollow ugc noopener noreferrer'>https://globalfishingwatch.org/dataset-and-code-fishing-effort/</a></div><div><br /></div><div><p style='margin:0in; font-family:Aptos, sans-serif;'><span style='font-family:&quot;Avenir Next&quot;, Avenir, &quot;Helvetica Neue&quot;, Helvetica, Arial, sans-serif;'><b><font size='4'>Dataset Summary</font></b></span></p><p style='margin:0in;'><span style='font-family:&quot;Avenir Next&quot;, Avenir, &quot;Helvetica Neue&quot;, Helvetica, Arial, sans-serif;'><b>Variable Mapped:</b> </span>Occupancy (hours) and effort (fishing hours) in hours per sq/km</p><p style='margin:0in;'><span style='font-family:&quot;Avenir Next&quot;, Avenir, &quot;Helvetica Neue&quot;, Helvetica, Arial, sans-serif;'><b>Data Projection:</b> </span>GCS WGS84</p><p style='margin:0in; font-family:Aptos, sans-serif;'><span style='font-family:&quot;Avenir Next&quot;, Avenir, &quot;Helvetica Neue&quot;, Helvetica, Arial, sans-serif;'><b>Service Projection:</b> Web Mercator</span></p><p style='margin:0in; font-family:Aptos, sans-serif;'><span style='font-family:&quot;Avenir Next&quot;, Avenir, &quot;Helvetica Neue&quot;, Helvetica, Arial, sans-serif;'><b>Extent:</b> Global</span></p><p style='margin:0in; font-family:Aptos, sans-serif;'><span style='font-family:&quot;Avenir Next&quot;, Avenir, &quot;Helvetica Neue&quot;, Helvetica, Arial, sans-serif;'><b>Cell Size:</b> (~1km)</span></p><p style='margin:0in; font-family:Aptos, sans-serif;'><span style='font-family:&quot;Avenir Next&quot;, Avenir, &quot;Helvetica Neue&quot;, Helvetica, Arial, sans-serif;'><b>Source Type:</b> Scientific/Double</span></p><p style='margin:0in;'><span style='font-family:&quot;Avenir Next&quot;, Avenir, &quot;Helvetica Neue&quot;, Helvetica, Arial, sans-serif;'><b>Data Source:</b> </span><a href='https://globalfishingwatch.org/data-download/datasets/public-fishing-effort' target='_blank' rel='nofollow ugc noopener noreferrer'>Global Fishing Watch</a></p><p style='margin:0in;'><span style='font-family:&quot;Avenir Next&quot;, Avenir, &quot;Helvetica Neue&quot;, Helvetica, Arial, sans-serif;'><b>Data Accessed Date:</b> </span>September 23, 2023</p><p style='margin:0in;'><span style='font-family:&quot;Avenir Next&quot;, Avenir, &quot;Helvetica Neue&quot;, Helvetica, Arial, sans-serif;'><b>Version:</b> </span>2.0, released 18 March 2021</p><p style='margin:0in;'><br /></p><p style='margin:0in; font-family:Aptos, sans-serif;'><span style='font-family:&quot;Avenir Next&quot;, Avenir, &quot;Helvetica Neue&quot;, Helvetica, Arial, sans-serif;'><b>What can you do with this layer?</b></span></p><p style='margin:0in;'>The layer can be used in analysis and visualization. This layer can be used to summarize the values withing a polygon (using zonal statistics).  Fishing effort can be used to understand the areas impacted by fishing and designate marine protection if needed.</p><p style='margin:0in; font-family:Aptos, sans-serif;'><span style='font-family:&quot;Avenir Next&quot;, Avenir, &quot;Helvetica Neue&quot;, Helvetica, Arial, sans-serif;'><br /></span></p></div>\n",
      "\n",
      "See companion layer: <a href='https://www.arcgis.com/home/item.html?id=872bd8dfe0c64728a806294a51b45cb2' target='_blank' rel='nofollow ugc noopener noreferrer'>Global Fishing Intensity - Monthly Time Series (Year 2020)</a></div>\n"
     ]
    }
   ],
   "source": [
    "print(f\"Title: {source.title}, Type: {source.type}, ID: {source.id}, CREDITS: {source.accessInformation}, TERMS: {source.licenseInfo}, SNIPPET: {source.snippet}, TAGS: {source.tags}, DESCRIPTION: {source.description}\")"
   ]
  },
  {
   "cell_type": "code",
   "execution_count": 52,
   "metadata": {},
   "outputs": [
    {
     "name": "stdout",
     "output_type": "stream",
     "text": [
      "Title: global_fish_watch_annual_fleet_sum_2012, Type: Image Service, ID: 2c74d39a354e4987a6841df4bce73f41\n"
     ]
    }
   ],
   "source": [
    "print(f\"Title: {target.title}, Type: {target.type}, ID: {target.id}\")\n"
   ]
  },
  {
   "cell_type": "code",
   "execution_count": 53,
   "metadata": {},
   "outputs": [
    {
     "data": {
      "text/plain": [
       "True"
      ]
     },
     "execution_count": 53,
     "metadata": {},
     "output_type": "execute_result"
    }
   ],
   "source": [
    "## Update the target content item with the source item's content item information\n",
    "target.update({\n",
    "    'title': source.title,\n",
    "    'description': source.description,\n",
    "    'snippet': source.snippet,\n",
    "    'tags': source.tags,\n",
    "    'accessInformation': source.accessInformation,\n",
    "    'licenseInfo': source.licenseInfo,\n",
    "    'thumbnail': source.thumbnail,\n",
    "    'extent': source.extent\n",
    "})"
   ]
  },
  {
   "cell_type": "code",
   "execution_count": 54,
   "metadata": {},
   "outputs": [
    {
     "data": {
      "text/plain": [
       "True"
      ]
     },
     "execution_count": 54,
     "metadata": {},
     "output_type": "execute_result"
    }
   ],
   "source": [
    "## Update the target item with the source item's symbology and pop-up\n",
    "target.update({\"text\": json.dumps(source.get_data())})"
   ]
  }
 ],
 "metadata": {
  "kernelspec": {
   "display_name": "Python 3",
   "language": "python",
   "name": "python3"
  },
  "language_info": {
   "codemirror_mode": {
    "name": "ipython",
    "version": 3
   },
   "file_extension": ".py",
   "mimetype": "text/x-python",
   "name": "python",
   "nbconvert_exporter": "python",
   "pygments_lexer": "ipython3",
   "version": "3.11.10"
  }
 },
 "nbformat": 4,
 "nbformat_minor": 2
}
